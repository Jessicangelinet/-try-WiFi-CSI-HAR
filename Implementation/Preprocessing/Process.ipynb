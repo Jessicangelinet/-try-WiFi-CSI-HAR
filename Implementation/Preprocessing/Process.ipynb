{
 "cells": [
  {
   "cell_type": "markdown",
   "metadata": {},
   "source": [
    "## Format CSV File to Retsediv Format"
   ]
  },
  {
   "cell_type": "markdown",
   "metadata": {},
   "source": [
    "### Take 52 data subcarriers from 64 subcarriers"
   ]
  },
  {
   "cell_type": "code",
   "execution_count": 4,
   "metadata": {},
   "outputs": [],
   "source": [
    "import pandas as pd\n",
    "from tabulate import tabulate\n",
    "\n",
    "filename = 'aavash1'\n",
    "filepath = './Data/Wireless Eye Data/' + f'{filename}' + '.csv'\n",
    "frame = pd.read_csv(filepath, sep=';', usecols=['amplitude', 'subcarrier'])\n",
    "# print(tabulate(frame, tablefmt='simple'))\n",
    "\n",
    "# Load the CSV file\n",
    "df = pd.read_csv(filepath, sep=';', usecols=['timestamp', 'amplitude', 'phase', 'subcarrier'])\n",
    "\n",
    "df['timestamp'] = df['timestamp'].astype(str)\n",
    "\n",
    "# Filter for data subcarriers (1-26 and 38-63)\n",
    "data_subcarriers = list(range(1, 27)) + list(range(38, 64))\n",
    "\n",
    "# Filter the dataframe to keep only data subcarriers\n",
    "df = df[df['subcarrier'].isin(data_subcarriers)]\n",
    "\n",
    "# Create pivot tables for amplitude and phase\n",
    "subcarrier_pivot = df.pivot(index='timestamp', columns='subcarrier', values='subcarrier')\n",
    "amplitude_pivot = df.pivot(index='timestamp', columns='subcarrier', values='amplitude')\n",
    "phase_pivot = df.pivot(index='timestamp', columns='subcarrier', values='phase')\n",
    "\n",
    "# Reset the index to make timestamp a column\n",
    "subcarrier_pivot.reset_index(inplace=True)\n",
    "amplitude_pivot.reset_index(inplace=True)\n",
    "phase_pivot.reset_index(inplace=True)\n",
    "\n",
    "# Rename the columns appropriately\n",
    "subcarrier_pivot.columns = ['timestamp'] + [f'subcarrier_{i}' for i in subcarrier_pivot.columns[1:]]\n",
    "amplitude_pivot.columns = ['timestamp'] + [f'amplitude_{i}' for i in amplitude_pivot.columns[1:]]\n",
    "phase_pivot.columns = ['timestamp'] + [f'phase_{i}' for i in phase_pivot.columns[1:]]\n",
    "\n",
    "# Drop the timestamp column from the amplitude and phase pivot tables before concatenation\n",
    "subcarrier_pivot.drop(columns=['timestamp'], inplace=True)\n",
    "amplitude_pivot.drop(columns=['timestamp'], inplace=True)\n",
    "phase_pivot.drop(columns=['timestamp'], inplace=True)\n",
    "\n",
    "# Concatenate the two pivot tables horizontally\n",
    "combined_df = pd.concat([subcarrier_pivot, amplitude_pivot, phase_pivot], axis=1)\n",
    "# Remove column names\n",
    "combined_df.columns = range(combined_df.shape[1])\n",
    "# Save the resulting dataframe to a CSV file\n",
    "save_filepath = './Data/Processed Data/' + f'{filename}' + '_processed.csv'\n",
    "combined_df.to_csv(save_filepath, index=False, header=False)"
   ]
  },
  {
   "cell_type": "code",
   "execution_count": null,
   "metadata": {},
   "outputs": [],
   "source": []
  }
 ],
 "metadata": {
  "kernelspec": {
   "display_name": "retsediv",
   "language": "python",
   "name": "retsediv"
  },
  "language_info": {
   "codemirror_mode": {
    "name": "ipython",
    "version": 3
   },
   "file_extension": ".py",
   "mimetype": "text/x-python",
   "name": "python",
   "nbconvert_exporter": "python",
   "pygments_lexer": "ipython3",
   "version": "3.12.4"
  }
 },
 "nbformat": 4,
 "nbformat_minor": 2
}
