{
 "cells": [
  {
   "cell_type": "markdown",
   "metadata": {},
   "source": [
    "# Modify the Original CSV File and take only timestamp, subcarrier, amplitude and phase data"
   ]
  },
  {
   "cell_type": "markdown",
   "metadata": {},
   "source": [
    "### Import Dependencies & Print Data"
   ]
  },
  {
   "cell_type": "code",
   "execution_count": 1,
   "metadata": {},
   "outputs": [],
   "source": [
    "import pandas as pd\n",
    "from tabulate import tabulate\n",
    "filename = 'sakshamtplink'\n",
    "filepath = './Data/Wireless Eye Data/'+f'{filename}'+'.csv'\n",
    "frame = pd.read_csv(filepath, sep=';', usecols=['amplitude', 'subcarrier'])\n",
    "# display(frame)\n",
    "print(tabulate(frame, tablefmt='simple'))"
   ]
  },
  {
   "cell_type": "markdown",
   "metadata": {},
   "source": [
    "### Modifying The CSV File (Adds Amplitude, Phase & Timestamp column)"
   ]
  },
  {
   "cell_type": "code",
   "execution_count": 21,
   "metadata": {},
   "outputs": [],
   "source": [
    "import pandas as pd\n",
    "\n",
    "# Load the CSV file\n",
    "df = pd.read_csv(filepath, sep=';', usecols=['timestamp','amplitude','phase','subcarrier'])\n",
    "\n",
    "df['timestamp'] = df['timestamp'].astype(str)\n",
    "\n",
    "# Create pivot tables for amplitude and phase\n",
    "subcarrier_pivot = df.pivot(index='timestamp', columns='subcarrier', values='subcarrier')\n",
    "amplitude_pivot = df.pivot(index='timestamp', columns='subcarrier', values='amplitude')\n",
    "phase_pivot = df.pivot(index='timestamp', columns='subcarrier', values='phase')\n",
    "\n",
    "# Reset the index to make timestamp a column\n",
    "subcarrier_pivot.reset_index(inplace=True)\n",
    "amplitude_pivot.reset_index(inplace=True)\n",
    "phase_pivot.reset_index(inplace=True)\n",
    "\n",
    "# Rename the columns appropriately\n",
    "subcarrier_pivot.columns = ['timestamp'] + [f'subcarrier_{i}' for i in range(subcarrier_pivot.shape[1] - 1)]\n",
    "amplitude_pivot.columns = ['timestamp'] + [f'amplitude_{i}' for i in range(amplitude_pivot.shape[1] - 1)]\n",
    "phase_pivot.columns = ['timestamp'] + [f'phase_{i}' for i in range(phase_pivot.shape[1] - 1)]\n",
    "\n",
    "# Drop the timestamp column from the phase pivot table before concatenation\n",
    "amplitude_pivot.drop(columns=['timestamp'], inplace=True)\n",
    "phase_pivot.drop(columns=['timestamp'], inplace=True)\n",
    "\n",
    "# Concatenate the two pivot tables horizontally\n",
    "combined_df = pd.concat([subcarrier_pivot, amplitude_pivot, phase_pivot], axis=1)\n",
    "\n",
    "# Save the resulting dataframe to a CSV file\n",
    "combined_df.to_csv('./Data/combined.csv', index=False)\n"
   ]
  },
  {
   "cell_type": "markdown",
   "metadata": {},
   "source": [
    "### Create Formatted CSV (Removes Date From Timestamp)"
   ]
  },
  {
   "cell_type": "code",
   "execution_count": 22,
   "metadata": {},
   "outputs": [],
   "source": [
    "load_filepath = './Data/combined.csv'\n",
    "save_filepath = './Data/Modified Data/'+f'{filename}'+'_modified.csv'\n",
    "df = pd.read_csv(load_filepath)\n",
    "\n",
    "# Remove column names\n",
    "df.columns = range(df.shape[1])\n",
    "\n",
    "# Modify the timestamp column to remove the date part\n",
    "df[0] = df[0].apply(lambda x: x.split()[1])\n",
    "\n",
    "# Save the modified dataframe to a new CSV file\n",
    "df.to_csv(save_filepath, index=False, header=False)"
   ]
  },
  {
   "cell_type": "code",
   "execution_count": null,
   "metadata": {},
   "outputs": [],
   "source": []
  }
 ],
 "metadata": {
  "kernelspec": {
   "display_name": "retsediv",
   "language": "python",
   "name": "retsediv"
  },
  "language_info": {
   "codemirror_mode": {
    "name": "ipython",
    "version": 3
   },
   "file_extension": ".py",
   "mimetype": "text/x-python",
   "name": "python",
   "nbconvert_exporter": "python",
   "pygments_lexer": "ipython3",
   "version": "3.12.4"
  }
 },
 "nbformat": 4,
 "nbformat_minor": 2
}
