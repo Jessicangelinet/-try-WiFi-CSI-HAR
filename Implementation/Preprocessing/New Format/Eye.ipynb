{
 "cells": [
  {
   "cell_type": "code",
   "execution_count": 1,
   "metadata": {},
   "outputs": [
    {
     "data": {
      "text/plain": [
       "'../Data/Eye Data/nLoS/combined2_eye.csv'"
      ]
     },
     "execution_count": 1,
     "metadata": {},
     "output_type": "execute_result"
    }
   ],
   "source": [
    "import pandas as pd\n",
    "\n",
    "# Load the uploaded CSV file\n",
    "session = 2\n",
    "name = 'combined'\n",
    "type = 'nLoS'\n",
    "filepath = '../Data/Wireless Eye Data/Annotated Data/'+f'{type}/'+f'{name}'+f'{session}'+'_annotated.csv'\n",
    "\n",
    "# Process the file based on the corrected script\n",
    "# Read the CSV file with specified columns\n",
    "df = pd.read_csv(filepath, sep=',', usecols=['timestamp', 'amplitude', 'phase', 'subcarrier', 'Activity'])\n",
    "\n",
    "# Ensure timestamp is treated as string\n",
    "df['timestamp'] = df['timestamp'].astype(str)\n",
    "\n",
    "# Create pivot tables for amplitude, phase, and activity\n",
    "amplitude_pivot = df.pivot(index='timestamp', columns='subcarrier', values='amplitude')\n",
    "phase_pivot = df.pivot(index='timestamp', columns='subcarrier', values='phase')\n",
    "activity_pivot = df.pivot(index='timestamp', columns='subcarrier', values='Activity')\n",
    "\n",
    "# Reset index to bring timestamp back as a column\n",
    "amplitude_pivot.reset_index(inplace=True)\n",
    "phase_pivot.reset_index(inplace=True)\n",
    "activity_pivot.reset_index(inplace=True)\n",
    "\n",
    "# Rename the columns appropriately\n",
    "amplitude_pivot.columns = ['timestamp'] + [f'amplitude_{i}' for i in amplitude_pivot.columns[1:]]\n",
    "phase_pivot.columns = ['timestamp'] + [f'phase_{i}' for i in phase_pivot.columns[1:]]\n",
    "activity_pivot.columns = ['timestamp'] + ['activity' for i in activity_pivot.columns[1:]]\n",
    "\n",
    "# Merge the dataframes horizontally\n",
    "merged_df = amplitude_pivot.merge(phase_pivot, on='timestamp').merge(activity_pivot, on='timestamp')\n",
    "merged_df = merged_df.iloc[:, :130]\n",
    "\n",
    "# Define save path for the output\n",
    "save_filepath = '../Data/Eye Data/'+f'{type}/'+f'{name}'+f'{session}'+'_eye.csv'\n",
    "merged_df.to_csv(save_filepath, index=False)\n",
    "save_filepath\n"
   ]
  },
  {
   "cell_type": "code",
   "execution_count": null,
   "metadata": {},
   "outputs": [],
   "source": []
  }
 ],
 "metadata": {
  "kernelspec": {
   "display_name": "retsediv",
   "language": "python",
   "name": "python3"
  },
  "language_info": {
   "codemirror_mode": {
    "name": "ipython",
    "version": 3
   },
   "file_extension": ".py",
   "mimetype": "text/x-python",
   "name": "python",
   "nbconvert_exporter": "python",
   "pygments_lexer": "ipython3",
   "version": "3.12.4"
  }
 },
 "nbformat": 4,
 "nbformat_minor": 2
}
